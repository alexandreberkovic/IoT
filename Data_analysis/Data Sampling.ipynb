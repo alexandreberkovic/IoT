{
 "cells": [
  {
   "cell_type": "markdown",
   "id": "8179603f",
   "metadata": {},
   "source": [
    "# Time Series Forecasting with LSTM"
   ]
  },
  {
   "cell_type": "markdown",
   "id": "1ff4a57e",
   "metadata": {},
   "source": [
    "## Imports"
   ]
  },
  {
   "cell_type": "code",
   "execution_count": 171,
   "id": "9e532e1b",
   "metadata": {},
   "outputs": [],
   "source": [
    "import numpy as np\n",
    "import matplotlib.pyplot as plt\n",
    "import pandas as pd\n",
    "import math\n",
    "import tensorflow as tf\n",
    "from keras.models import Sequential\n",
    "from keras.layers import Dense\n",
    "from keras.layers import LSTM\n",
    "from keras.preprocessing.sequence import TimeseriesGenerator\n",
    "from sklearn.preprocessing import MinMaxScaler\n",
    "from sklearn.metrics import mean_squared_error\n",
    "from pylab import rcParams\n",
    "import plotly\n",
    "import plotly.graph_objs as go\n",
    "from pathlib import Path\n",
    "# from plotly import go\n",
    "# matplotlib.rcParams['axes.labelsize'] = 14\n",
    "# matplotlib.rcParams['xtick.labelsize'] = 12\n",
    "# matplotlib.rcParams['ytick.labelsize'] = 12\n",
    "# matplotlib.rcParams['text.color'] = 'k'"
   ]
  },
  {
   "cell_type": "markdown",
   "id": "a554743a",
   "metadata": {},
   "source": [
    "## Data import"
   ]
  },
  {
   "cell_type": "code",
   "execution_count": 183,
   "id": "e282fa4e",
   "metadata": {},
   "outputs": [],
   "source": [
    "# fix random seed for reproducibility\n",
    "np.random.seed(42)"
   ]
  },
  {
   "cell_type": "code",
   "execution_count": 184,
   "id": "5e430526",
   "metadata": {},
   "outputs": [],
   "source": [
    "root = Path('/Users','alexandreberkovic','Desktop', 'Year_4','SIoT','IoT')"
   ]
  },
  {
   "cell_type": "code",
   "execution_count": 185,
   "id": "0de9c0ab",
   "metadata": {},
   "outputs": [],
   "source": [
    "df = pd.read_csv(root / 'Output_data/CSV/sensor.csv')"
   ]
  },
  {
   "cell_type": "code",
   "execution_count": 186,
   "id": "4db9cfad",
   "metadata": {},
   "outputs": [
    {
     "data": {
      "text/plain": [
       "Index(['Humidity', 'Temperature', 'Light', 'Time stamp', 'Date'], dtype='object')"
      ]
     },
     "execution_count": 186,
     "metadata": {},
     "output_type": "execute_result"
    }
   ],
   "source": [
    "df.columns"
   ]
  },
  {
   "cell_type": "code",
   "execution_count": 187,
   "id": "3834e6ff",
   "metadata": {},
   "outputs": [],
   "source": [
    "df = df.drop('Date',axis = 1)"
   ]
  },
  {
   "cell_type": "code",
   "execution_count": 188,
   "id": "33879d10",
   "metadata": {},
   "outputs": [],
   "source": [
    "# time stamp column to ts instead of string\n",
    "df['Time stamp'] = pd.to_datetime(df['Time stamp'], infer_datetime_format=True)"
   ]
  },
  {
   "cell_type": "code",
   "execution_count": 189,
   "id": "31034ac1",
   "metadata": {},
   "outputs": [],
   "source": [
    "# # remove humidity levels below 50 (as those should not occur)\n",
    "df = df.loc[df['Humidity'] >= 50]\n",
    "# df = df.reset_index()"
   ]
  },
  {
   "cell_type": "code",
   "execution_count": 190,
   "id": "55fd65ad",
   "metadata": {},
   "outputs": [],
   "source": [
    "df.set_axis(df['Time stamp'], inplace=True)"
   ]
  },
  {
   "cell_type": "code",
   "execution_count": 180,
   "id": "1e3dda37",
   "metadata": {},
   "outputs": [],
   "source": [
    "df2 = df.resample('10min').mean()"
   ]
  },
  {
   "cell_type": "code",
   "execution_count": 102,
   "id": "cdd9bbbc",
   "metadata": {},
   "outputs": [],
   "source": [
    "df2 = df2[3052:]"
   ]
  },
  {
   "cell_type": "code",
   "execution_count": 103,
   "id": "997bba07",
   "metadata": {},
   "outputs": [
    {
     "data": {
      "text/html": [
       "<div>\n",
       "<style scoped>\n",
       "    .dataframe tbody tr th:only-of-type {\n",
       "        vertical-align: middle;\n",
       "    }\n",
       "\n",
       "    .dataframe tbody tr th {\n",
       "        vertical-align: top;\n",
       "    }\n",
       "\n",
       "    .dataframe thead th {\n",
       "        text-align: right;\n",
       "    }\n",
       "</style>\n",
       "<table border=\"1\" class=\"dataframe\">\n",
       "  <thead>\n",
       "    <tr style=\"text-align: right;\">\n",
       "      <th></th>\n",
       "      <th>Humidity</th>\n",
       "      <th>Temperature</th>\n",
       "      <th>Light</th>\n",
       "    </tr>\n",
       "    <tr>\n",
       "      <th>Time stamp</th>\n",
       "      <th></th>\n",
       "      <th></th>\n",
       "      <th></th>\n",
       "    </tr>\n",
       "  </thead>\n",
       "  <tbody>\n",
       "    <tr>\n",
       "      <th>2021-11-13 18:45:09</th>\n",
       "      <td>62.2</td>\n",
       "      <td>20.0</td>\n",
       "      <td>1256.0</td>\n",
       "    </tr>\n",
       "    <tr>\n",
       "      <th>2021-11-13 18:45:12</th>\n",
       "      <td>NaN</td>\n",
       "      <td>NaN</td>\n",
       "      <td>NaN</td>\n",
       "    </tr>\n",
       "    <tr>\n",
       "      <th>2021-11-13 18:45:15</th>\n",
       "      <td>NaN</td>\n",
       "      <td>NaN</td>\n",
       "      <td>NaN</td>\n",
       "    </tr>\n",
       "    <tr>\n",
       "      <th>2021-11-13 18:45:18</th>\n",
       "      <td>NaN</td>\n",
       "      <td>NaN</td>\n",
       "      <td>NaN</td>\n",
       "    </tr>\n",
       "    <tr>\n",
       "      <th>2021-11-13 18:45:21</th>\n",
       "      <td>NaN</td>\n",
       "      <td>NaN</td>\n",
       "      <td>NaN</td>\n",
       "    </tr>\n",
       "    <tr>\n",
       "      <th>...</th>\n",
       "      <td>...</td>\n",
       "      <td>...</td>\n",
       "      <td>...</td>\n",
       "    </tr>\n",
       "    <tr>\n",
       "      <th>2021-12-13 18:49:24</th>\n",
       "      <td>NaN</td>\n",
       "      <td>NaN</td>\n",
       "      <td>NaN</td>\n",
       "    </tr>\n",
       "    <tr>\n",
       "      <th>2021-12-13 18:49:27</th>\n",
       "      <td>NaN</td>\n",
       "      <td>NaN</td>\n",
       "      <td>NaN</td>\n",
       "    </tr>\n",
       "    <tr>\n",
       "      <th>2021-12-13 18:49:30</th>\n",
       "      <td>NaN</td>\n",
       "      <td>NaN</td>\n",
       "      <td>NaN</td>\n",
       "    </tr>\n",
       "    <tr>\n",
       "      <th>2021-12-13 18:49:33</th>\n",
       "      <td>NaN</td>\n",
       "      <td>NaN</td>\n",
       "      <td>NaN</td>\n",
       "    </tr>\n",
       "    <tr>\n",
       "      <th>2021-12-13 18:49:36</th>\n",
       "      <td>69.5</td>\n",
       "      <td>19.9</td>\n",
       "      <td>1550.0</td>\n",
       "    </tr>\n",
       "  </tbody>\n",
       "</table>\n",
       "<p>864090 rows × 3 columns</p>\n",
       "</div>"
      ],
      "text/plain": [
       "                     Humidity  Temperature   Light\n",
       "Time stamp                                        \n",
       "2021-11-13 18:45:09      62.2         20.0  1256.0\n",
       "2021-11-13 18:45:12       NaN          NaN     NaN\n",
       "2021-11-13 18:45:15       NaN          NaN     NaN\n",
       "2021-11-13 18:45:18       NaN          NaN     NaN\n",
       "2021-11-13 18:45:21       NaN          NaN     NaN\n",
       "...                       ...          ...     ...\n",
       "2021-12-13 18:49:24       NaN          NaN     NaN\n",
       "2021-12-13 18:49:27       NaN          NaN     NaN\n",
       "2021-12-13 18:49:30       NaN          NaN     NaN\n",
       "2021-12-13 18:49:33       NaN          NaN     NaN\n",
       "2021-12-13 18:49:36      69.5         19.9  1550.0\n",
       "\n",
       "[864090 rows x 3 columns]"
      ]
     },
     "execution_count": 103,
     "metadata": {},
     "output_type": "execute_result"
    }
   ],
   "source": [
    "# Resample 3 seconds\n",
    "df.set_index('Time stamp').resample('3s').mean()"
   ]
  },
  {
   "cell_type": "code",
   "execution_count": 104,
   "id": "a246906b",
   "metadata": {},
   "outputs": [
    {
     "data": {
      "text/html": [
       "<div>\n",
       "<style scoped>\n",
       "    .dataframe tbody tr th:only-of-type {\n",
       "        vertical-align: middle;\n",
       "    }\n",
       "\n",
       "    .dataframe tbody tr th {\n",
       "        vertical-align: top;\n",
       "    }\n",
       "\n",
       "    .dataframe thead th {\n",
       "        text-align: right;\n",
       "    }\n",
       "</style>\n",
       "<table border=\"1\" class=\"dataframe\">\n",
       "  <thead>\n",
       "    <tr style=\"text-align: right;\">\n",
       "      <th></th>\n",
       "      <th>Humidity</th>\n",
       "      <th>Temperature</th>\n",
       "      <th>Light</th>\n",
       "    </tr>\n",
       "    <tr>\n",
       "      <th>Time stamp</th>\n",
       "      <th></th>\n",
       "      <th></th>\n",
       "      <th></th>\n",
       "    </tr>\n",
       "  </thead>\n",
       "  <tbody>\n",
       "    <tr>\n",
       "      <th>2021-11-13 18:00:00</th>\n",
       "      <td>0.0</td>\n",
       "      <td>0.0</td>\n",
       "      <td>0.0</td>\n",
       "    </tr>\n",
       "    <tr>\n",
       "      <th>2021-11-13 19:00:00</th>\n",
       "      <td>2.8</td>\n",
       "      <td>0.7</td>\n",
       "      <td>19.0</td>\n",
       "    </tr>\n",
       "    <tr>\n",
       "      <th>2021-11-13 20:00:00</th>\n",
       "      <td>2.4</td>\n",
       "      <td>0.1</td>\n",
       "      <td>11.0</td>\n",
       "    </tr>\n",
       "    <tr>\n",
       "      <th>2021-11-13 21:00:00</th>\n",
       "      <td>4.5</td>\n",
       "      <td>0.1</td>\n",
       "      <td>7.0</td>\n",
       "    </tr>\n",
       "    <tr>\n",
       "      <th>2021-11-13 22:00:00</th>\n",
       "      <td>1.6</td>\n",
       "      <td>0.3</td>\n",
       "      <td>41.0</td>\n",
       "    </tr>\n",
       "    <tr>\n",
       "      <th>...</th>\n",
       "      <td>...</td>\n",
       "      <td>...</td>\n",
       "      <td>...</td>\n",
       "    </tr>\n",
       "    <tr>\n",
       "      <th>2021-12-13 14:00:00</th>\n",
       "      <td>1.9</td>\n",
       "      <td>0.4</td>\n",
       "      <td>967.0</td>\n",
       "    </tr>\n",
       "    <tr>\n",
       "      <th>2021-12-13 15:00:00</th>\n",
       "      <td>1.1</td>\n",
       "      <td>0.2</td>\n",
       "      <td>743.0</td>\n",
       "    </tr>\n",
       "    <tr>\n",
       "      <th>2021-12-13 16:00:00</th>\n",
       "      <td>1.3</td>\n",
       "      <td>0.2</td>\n",
       "      <td>21.0</td>\n",
       "    </tr>\n",
       "    <tr>\n",
       "      <th>2021-12-13 17:00:00</th>\n",
       "      <td>1.2</td>\n",
       "      <td>0.1</td>\n",
       "      <td>12.0</td>\n",
       "    </tr>\n",
       "    <tr>\n",
       "      <th>2021-12-13 18:00:00</th>\n",
       "      <td>0.0</td>\n",
       "      <td>0.0</td>\n",
       "      <td>13.0</td>\n",
       "    </tr>\n",
       "  </tbody>\n",
       "</table>\n",
       "<p>721 rows × 3 columns</p>\n",
       "</div>"
      ],
      "text/plain": [
       "                     Humidity  Temperature  Light\n",
       "Time stamp                                       \n",
       "2021-11-13 18:00:00       0.0          0.0    0.0\n",
       "2021-11-13 19:00:00       2.8          0.7   19.0\n",
       "2021-11-13 20:00:00       2.4          0.1   11.0\n",
       "2021-11-13 21:00:00       4.5          0.1    7.0\n",
       "2021-11-13 22:00:00       1.6          0.3   41.0\n",
       "...                       ...          ...    ...\n",
       "2021-12-13 14:00:00       1.9          0.4  967.0\n",
       "2021-12-13 15:00:00       1.1          0.2  743.0\n",
       "2021-12-13 16:00:00       1.3          0.2   21.0\n",
       "2021-12-13 17:00:00       1.2          0.1   12.0\n",
       "2021-12-13 18:00:00       0.0          0.0   13.0\n",
       "\n",
       "[721 rows x 3 columns]"
      ]
     },
     "execution_count": 104,
     "metadata": {},
     "output_type": "execute_result"
    }
   ],
   "source": [
    "df.set_index('Time stamp').resample('H').pipe(lambda x: x.max() - x.min())"
   ]
  },
  {
   "cell_type": "code",
   "execution_count": 105,
   "id": "8e84d01d",
   "metadata": {},
   "outputs": [
    {
     "name": "stderr",
     "output_type": "stream",
     "text": [
      "/var/folders/34/kt2mvxyx0lx0f3th233kk1200000gn/T/ipykernel_23860/1480750406.py:1: FutureWarning: 'loffset' in .resample() and in Grouper() is deprecated.\n",
      "\n",
      ">>> df.resample(freq=\"3s\", loffset=\"8H\")\n",
      "\n",
      "becomes:\n",
      "\n",
      ">>> from pandas.tseries.frequencies import to_offset\n",
      ">>> df = df.resample(freq=\"3s\").mean()\n",
      ">>> df.index = df.index.to_timestamp() + to_offset(\"8H\")\n",
      "\n",
      "  df.set_index('Time stamp').resample('H',loffset='10s').mean()\n"
     ]
    },
    {
     "data": {
      "text/html": [
       "<div>\n",
       "<style scoped>\n",
       "    .dataframe tbody tr th:only-of-type {\n",
       "        vertical-align: middle;\n",
       "    }\n",
       "\n",
       "    .dataframe tbody tr th {\n",
       "        vertical-align: top;\n",
       "    }\n",
       "\n",
       "    .dataframe thead th {\n",
       "        text-align: right;\n",
       "    }\n",
       "</style>\n",
       "<table border=\"1\" class=\"dataframe\">\n",
       "  <thead>\n",
       "    <tr style=\"text-align: right;\">\n",
       "      <th></th>\n",
       "      <th>Humidity</th>\n",
       "      <th>Temperature</th>\n",
       "      <th>Light</th>\n",
       "    </tr>\n",
       "    <tr>\n",
       "      <th>Time stamp</th>\n",
       "      <th></th>\n",
       "      <th></th>\n",
       "      <th></th>\n",
       "    </tr>\n",
       "  </thead>\n",
       "  <tbody>\n",
       "    <tr>\n",
       "      <th>2021-11-13 18:00:10</th>\n",
       "      <td>62.200000</td>\n",
       "      <td>20.000000</td>\n",
       "      <td>1256.000000</td>\n",
       "    </tr>\n",
       "    <tr>\n",
       "      <th>2021-11-13 19:00:10</th>\n",
       "      <td>64.633333</td>\n",
       "      <td>19.566667</td>\n",
       "      <td>1742.000000</td>\n",
       "    </tr>\n",
       "    <tr>\n",
       "      <th>2021-11-13 20:00:10</th>\n",
       "      <td>67.283333</td>\n",
       "      <td>19.283333</td>\n",
       "      <td>1732.000000</td>\n",
       "    </tr>\n",
       "    <tr>\n",
       "      <th>2021-11-13 21:00:10</th>\n",
       "      <td>63.183333</td>\n",
       "      <td>19.166667</td>\n",
       "      <td>1733.333333</td>\n",
       "    </tr>\n",
       "    <tr>\n",
       "      <th>2021-11-13 22:00:10</th>\n",
       "      <td>59.433333</td>\n",
       "      <td>19.033333</td>\n",
       "      <td>1764.500000</td>\n",
       "    </tr>\n",
       "    <tr>\n",
       "      <th>...</th>\n",
       "      <td>...</td>\n",
       "      <td>...</td>\n",
       "      <td>...</td>\n",
       "    </tr>\n",
       "    <tr>\n",
       "      <th>2021-12-13 14:00:10</th>\n",
       "      <td>74.250000</td>\n",
       "      <td>20.166667</td>\n",
       "      <td>2413.166667</td>\n",
       "    </tr>\n",
       "    <tr>\n",
       "      <th>2021-12-13 15:00:10</th>\n",
       "      <td>73.016667</td>\n",
       "      <td>20.100000</td>\n",
       "      <td>1969.333333</td>\n",
       "    </tr>\n",
       "    <tr>\n",
       "      <th>2021-12-13 16:00:10</th>\n",
       "      <td>71.516667</td>\n",
       "      <td>19.950000</td>\n",
       "      <td>1544.833333</td>\n",
       "    </tr>\n",
       "    <tr>\n",
       "      <th>2021-12-13 17:00:10</th>\n",
       "      <td>70.066667</td>\n",
       "      <td>19.916667</td>\n",
       "      <td>1544.500000</td>\n",
       "    </tr>\n",
       "    <tr>\n",
       "      <th>2021-12-13 18:00:10</th>\n",
       "      <td>69.500000</td>\n",
       "      <td>19.900000</td>\n",
       "      <td>1552.600000</td>\n",
       "    </tr>\n",
       "  </tbody>\n",
       "</table>\n",
       "<p>721 rows × 3 columns</p>\n",
       "</div>"
      ],
      "text/plain": [
       "                      Humidity  Temperature        Light\n",
       "Time stamp                                              \n",
       "2021-11-13 18:00:10  62.200000    20.000000  1256.000000\n",
       "2021-11-13 19:00:10  64.633333    19.566667  1742.000000\n",
       "2021-11-13 20:00:10  67.283333    19.283333  1732.000000\n",
       "2021-11-13 21:00:10  63.183333    19.166667  1733.333333\n",
       "2021-11-13 22:00:10  59.433333    19.033333  1764.500000\n",
       "...                        ...          ...          ...\n",
       "2021-12-13 14:00:10  74.250000    20.166667  2413.166667\n",
       "2021-12-13 15:00:10  73.016667    20.100000  1969.333333\n",
       "2021-12-13 16:00:10  71.516667    19.950000  1544.833333\n",
       "2021-12-13 17:00:10  70.066667    19.916667  1544.500000\n",
       "2021-12-13 18:00:10  69.500000    19.900000  1552.600000\n",
       "\n",
       "[721 rows x 3 columns]"
      ]
     },
     "execution_count": 105,
     "metadata": {},
     "output_type": "execute_result"
    }
   ],
   "source": [
    "df.set_index('Time stamp').resample('H',loffset='10s').mean()"
   ]
  },
  {
   "cell_type": "code",
   "execution_count": 106,
   "id": "cba26cc2",
   "metadata": {},
   "outputs": [
    {
     "data": {
      "text/html": [
       "<div>\n",
       "<style scoped>\n",
       "    .dataframe tbody tr th:only-of-type {\n",
       "        vertical-align: middle;\n",
       "    }\n",
       "\n",
       "    .dataframe tbody tr th {\n",
       "        vertical-align: top;\n",
       "    }\n",
       "\n",
       "    .dataframe thead th {\n",
       "        text-align: right;\n",
       "    }\n",
       "</style>\n",
       "<table border=\"1\" class=\"dataframe\">\n",
       "  <thead>\n",
       "    <tr style=\"text-align: right;\">\n",
       "      <th></th>\n",
       "      <th>Humidity</th>\n",
       "      <th>Temperature</th>\n",
       "      <th>Light</th>\n",
       "      <th>Time stamp</th>\n",
       "    </tr>\n",
       "    <tr>\n",
       "      <th>Time stamp</th>\n",
       "      <th></th>\n",
       "      <th></th>\n",
       "      <th></th>\n",
       "      <th></th>\n",
       "    </tr>\n",
       "  </thead>\n",
       "  <tbody>\n",
       "  </tbody>\n",
       "</table>\n",
       "</div>"
      ],
      "text/plain": [
       "Empty DataFrame\n",
       "Columns: [Humidity, Temperature, Light, Time stamp]\n",
       "Index: []"
      ]
     },
     "execution_count": 106,
     "metadata": {},
     "output_type": "execute_result"
    }
   ],
   "source": [
    "df[df['Humidity'].isna()]"
   ]
  },
  {
   "cell_type": "code",
   "execution_count": 107,
   "id": "c269e460",
   "metadata": {},
   "outputs": [
    {
     "data": {
      "text/plain": [
       "<AxesSubplot:xlabel='Time stamp'>"
      ]
     },
     "execution_count": 107,
     "metadata": {},
     "output_type": "execute_result"
    },
    {
     "data": {
      "image/png": "[encoded data removed]",
      "text/plain": [
       "<Figure size 792x288 with 1 Axes>"
      ]
     },
     "metadata": {},
     "output_type": "display_data"
    }
   ],
   "source": [
    "import seaborn as sns\n",
    "sns.set(rc={'figure.figsize':(11,4)})\n",
    "df2.fillna(0).plot()"
   ]
  },
  {
   "cell_type": "code",
   "execution_count": 156,
   "id": "679d2ed3",
   "metadata": {},
   "outputs": [
    {
     "data": {
      "image/png": "[encoded data removed]",
      "text/plain": [
       "<Figure size 792x288 with 1 Axes>"
      ]
     },
     "metadata": {},
     "output_type": "display_data"
    }
   ],
   "source": [
    "df2['Humidity'].plot()\n",
    "plt.savefig('empty data.png')"
   ]
  },
  {
   "cell_type": "code",
   "execution_count": 160,
   "id": "7c4b1c64",
   "metadata": {},
   "outputs": [],
   "source": [
    "df3 = df2['Humidity'].interpolate('akima').dropna()"
   ]
  },
  {
   "cell_type": "code",
   "execution_count": 162,
   "id": "5eb2c138",
   "metadata": {},
   "outputs": [
    {
     "data": {
      "text/plain": [
       "Time stamp\n",
       "2021-12-05 00:20:00    52.8\n",
       "2021-12-05 00:30:00    56.8\n",
       "2021-12-05 00:40:00    59.8\n",
       "2021-12-05 00:50:00    60.0\n",
       "2021-12-05 01:00:00    60.7\n",
       "                       ... \n",
       "2021-12-13 18:00:00    69.5\n",
       "2021-12-13 18:10:00    69.5\n",
       "2021-12-13 18:20:00    69.5\n",
       "2021-12-13 18:30:00    69.5\n",
       "2021-12-13 18:40:00    69.5\n",
       "Freq: 10T, Name: Humidity, Length: 1263, dtype: float64"
      ]
     },
     "execution_count": 162,
     "metadata": {},
     "output_type": "execute_result"
    }
   ],
   "source": [
    "df3"
   ]
  },
  {
   "cell_type": "code",
   "execution_count": 163,
   "id": "e53ac7a0",
   "metadata": {},
   "outputs": [
    {
     "data": {
      "image/png": "[encoded data removed]",
      "text/plain": [
       "<Figure size 792x288 with 1 Axes>"
      ]
     },
     "metadata": {},
     "output_type": "display_data"
    }
   ],
   "source": [
    "df2['Humidity'].plot()\n",
    "df3[728:813].plot()\n",
    "plt.savefig('interpolation.png')"
   ]
  },
  {
   "cell_type": "code",
   "execution_count": null,
   "id": "c53184ec",
   "metadata": {},
   "outputs": [],
   "source": [
    "df3.to_csv('')"
   ]
  }
 ],
 "metadata": {
  "kernelspec": {
   "display_name": "Python 3 (ipykernel)",
   "language": "python",
   "name": "python3"
  },
  "language_info": {
   "codemirror_mode": {
    "name": "ipython",
    "version": 3
   },
   "file_extension": ".py",
   "mimetype": "text/x-python",
   "name": "python",
   "nbconvert_exporter": "python",
   "pygments_lexer": "ipython3",
   "version": "3.9.7"
  }
 },
 "nbformat": 4,
 "nbformat_minor": 5
}
